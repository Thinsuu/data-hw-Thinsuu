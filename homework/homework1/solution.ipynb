{
 "cells": [
  {
   "cell_type": "code",
   "execution_count": null,
   "metadata": {},
   "outputs": [],
   "source": [
    "import matplotlib.pyplot as plt\n",
    "x_values = [1, 2, 3, 4, 5]\n",
    "y_values = [1, 4, 9, 16, 25]\n",
    "plt.style.use('grayscale')\n",
    "fig, ax = plt.subplots()\n",
    "ax.scatter(x_values, y_values, c=y_values, cmap=plt.cm.Blues, s=50)\n",
    "# ax.plot(input_values, square, linewidth = 3)\n",
    "# ax.set_title(\"Square Numbers\", fontsize = 24)\n",
    "# ax.set_xlabel(\"Value\", fontsize = 14)\n",
    "# ax.set_ylabel(\"Square of value\", fontsize=11)\n",
    "# ax.tick_params(axis = \"both\", labelsize=5)\n",
    "plt.savefig('squares_plot.png')\n"
   ]
  },
  {
   "cell_type": "code",
   "execution_count": null,
   "metadata": {},
   "outputs": [],
   "source": []
  }
 ],
 "metadata": {
  "kernelspec": {
   "display_name": "Python 3.9.13 64-bit ('base': conda)",
   "name": "python3913jvsc74a57bd093d06be40ac4ed0e502167d4def12b211b8a60dc1c365ed9c1e4eb6757924fe0"
  },
  "language_info": {
   "codemirror_mode": {
    "name": "ipython",
    "version": 3
   },
   "file_extension": ".py",
   "mimetype": "text/x-python",
   "name": "python",
   "nbconvert_exporter": "python",
   "pygments_lexer": "ipython3",
   "version": "3.9.13"
  },
  "orig_nbformat": 2
 },
 "nbformat": 4,
 "nbformat_minor": 2
}